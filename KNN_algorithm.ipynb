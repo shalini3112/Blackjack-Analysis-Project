{
  "cells": [
    {
      "cell_type": "markdown",
      "source": [
        "# Import Dependencies\n"
      ],
      "metadata": {
        "id": "Ss_LHgrmTRdF"
      },
      "id": "Ss_LHgrmTRdF"
    },
    {
      "cell_type": "code",
      "execution_count": 1,
      "id": "064836d9-d606-4b11-9984-674022c81597",
      "metadata": {
        "id": "064836d9-d606-4b11-9984-674022c81597"
      },
      "outputs": [],
      "source": [
        "\n",
        "import io\n",
        "import pandas as pd\n",
        "import numpy as np\n",
        "import matplotlib.pyplot as plt\n",
        "import seaborn as sns\n",
        "\n",
        "import  gym\n",
        "#import gym\n",
        "#from google.colab import drive\n",
        "from sklearn.model_selection import train_test_split\n",
        "from sklearn.neighbors import KNeighborsClassifier\n",
        "from sklearn.metrics import classification_report, accuracy_score, confusion_matrix, precision_score"
      ]
    },
    {
      "cell_type": "markdown",
      "source": [
        "# Mount Google Drive\n"
      ],
      "metadata": {
        "id": "4R1ga2SCTFKr"
      },
      "id": "4R1ga2SCTFKr"
    },
    {
      "cell_type": "code",
      "source": [
        "from google.colab import drive\n",
        "drive.mount('/content/drive')"
      ],
      "metadata": {
        "colab": {
          "base_uri": "https://localhost:8080/"
        },
        "id": "B_ym1FZyQpgn",
        "outputId": "cf1ab784-138a-4091-f0fa-ddb641c1bd67"
      },
      "id": "B_ym1FZyQpgn",
      "execution_count": 2,
      "outputs": [
        {
          "output_type": "stream",
          "name": "stdout",
          "text": [
            "Mounted at /content/drive\n"
          ]
        }
      ]
    },
    {
      "cell_type": "markdown",
      "source": [
        "# Data Loading\n"
      ],
      "metadata": {
        "id": "DjGOfWS_zu11"
      },
      "id": "DjGOfWS_zu11"
    },
    {
      "cell_type": "code",
      "source": [
        "# Load data and prepare for modeling\n",
        "file_path = '/content/drive/My Drive/blackjack_simulator.csv'\n",
        "data = pd.read_csv(file_path, sep=',', nrows=100000)"
      ],
      "metadata": {
        "id": "wT5YUAtZQwVN"
      },
      "id": "wT5YUAtZQwVN",
      "execution_count": 4,
      "outputs": []
    },
    {
      "cell_type": "markdown",
      "source": [
        "# Action Prediction and Visualization\n"
      ],
      "metadata": {
        "id": "j5tU9TIj0KpA"
      },
      "id": "j5tU9TIj0KpA"
    },
    {
      "cell_type": "code",
      "execution_count": 5,
      "id": "dd0150ed-d27d-4f6d-abf6-75fed0d33771",
      "metadata": {
        "id": "dd0150ed-d27d-4f6d-abf6-75fed0d33771"
      },
      "outputs": [],
      "source": [
        "def predict_action(dealer_card, player_total, player_has_ace, model):\n",
        "    \"\"\"Predicts the best action ('Hit' or 'Stand') based on the model and plots the results.\"\"\"\n",
        "    input_features = pd.DataFrame({\n",
        "        'dealer_card': [dealer_card],\n",
        "        'player_total': [player_total],\n",
        "        'player_ace': [1 if player_has_ace else 0]\n",
        "    })\n",
        "    action_prob = model.predict_proba(input_features)[0]\n",
        "    actions = ['Hit', 'Stand']\n",
        "    action = actions[model.predict(input_features)[0]]\n",
        "\n",
        "    # Output the recommended action\n",
        "    print(f\"Recommended action: {action}\")\n",
        "    print(f\"Probability of 'Hit': {action_prob[0]:.2f}\")\n",
        "    print(f\"Probability of 'Stand': {action_prob[1]:.2f}\")\n",
        "\n",
        "    # Plotting the probabilities as a bar chart\n",
        "    plt.figure(figsize=(8, 4))\n",
        "    sns.barplot(x=actions, y=action_prob, color='mediumturquoise')  # Specify a single color or different colors for each bar\n",
        "    plt.title('Action Probabilities')\n",
        "    plt.ylabel('Probability')\n",
        "    plt.show()\n",
        "\n",
        "    # Pie chart visualization of probabilities\n",
        "    plt.figure(figsize=(6, 6))\n",
        "    plt.pie(action_prob, labels=actions, autopct='%1.1f%%', startangle=90, colors=['tomato', 'mediumseagreen'])\n",
        "    plt.title('Action Distribution')\n",
        "    plt.show()\n"
      ]
    },
    {
      "cell_type": "markdown",
      "source": [
        "# Data Preprocessing"
      ],
      "metadata": {
        "id": "W-UGcXeK3K6-"
      },
      "id": "W-UGcXeK3K6-"
    },
    {
      "cell_type": "code",
      "execution_count": 6,
      "id": "97afda66-c67c-4935-ae8b-eb88a0516d58",
      "metadata": {
        "id": "97afda66-c67c-4935-ae8b-eb88a0516d58"
      },
      "outputs": [],
      "source": [
        "# Load and prepare the dataset\n",
        "data['initial_hand'] = data['initial_hand'].apply(eval)\n",
        "data['dealer_final'] = data['dealer_final'].apply(eval)\n",
        "data['player_final'] = data['player_final'].apply(eval)\n",
        "data['actions_taken'] = data['actions_taken'].apply(eval)\n",
        "data = data.explode('player_final')\n",
        "data['actions_taken'] = data['actions_taken'].apply(lambda x: [item for sublist in x for item in (sublist if isinstance(sublist, list) else [sublist])])\n",
        "data = data.explode('actions_taken')"
      ]
    },
    {
      "cell_type": "code",
      "execution_count": 7,
      "id": "17ad0e74-9515-409d-8189-8062452045a5",
      "metadata": {
        "colab": {
          "base_uri": "https://localhost:8080/"
        },
        "id": "17ad0e74-9515-409d-8189-8062452045a5",
        "outputId": "dfb4f5be-6685-41f7-bb54-5fb6a352247b"
      },
      "outputs": [
        {
          "output_type": "stream",
          "name": "stderr",
          "text": [
            "<ipython-input-7-2370c3e8d0fc>:3: SettingWithCopyWarning: \n",
            "A value is trying to be set on a copy of a slice from a DataFrame.\n",
            "Try using .loc[row_indexer,col_indexer] = value instead\n",
            "\n",
            "See the caveats in the documentation: https://pandas.pydata.org/pandas-docs/stable/user_guide/indexing.html#returning-a-view-versus-a-copy\n",
            "  data['action_binary'] = data['actions_taken'].apply(lambda x: 1 if x == 'S' else 0)\n"
          ]
        }
      ],
      "source": [
        "# Filter for 'H' and 'S' actions\n",
        "data = data[data['actions_taken'].isin(['H', 'S'])]\n",
        "data['action_binary'] = data['actions_taken'].apply(lambda x: 1 if x == 'S' else 0)\n",
        "\n",
        "# Prepare features and target variable\n",
        "features = pd.DataFrame({\n",
        "    'dealer_card': data['dealer_up'],\n",
        "    'player_total': data['player_final'].apply(lambda hand: sum(hand) if isinstance(hand, list) else hand),\n",
        "    'player_ace': data['player_final'].apply(lambda hand: 1 if 11 in hand else 0)\n",
        "})\n",
        "target = data['action_binary']"
      ]
    },
    {
      "cell_type": "markdown",
      "source": [
        "# Model Training\n"
      ],
      "metadata": {
        "id": "IH7poG3H4bKN"
      },
      "id": "IH7poG3H4bKN"
    },
    {
      "cell_type": "code",
      "execution_count": 8,
      "id": "a726fd1b-a037-4dc5-8dfa-2909f9abbc3b",
      "metadata": {
        "colab": {
          "base_uri": "https://localhost:8080/",
          "height": 457
        },
        "id": "a726fd1b-a037-4dc5-8dfa-2909f9abbc3b",
        "outputId": "fda3f42f-d498-4e44-f60b-afedd3724274"
      },
      "outputs": [
        {
          "output_type": "execute_result",
          "data": {
            "text/plain": [
              "    Accuracy  Percision\n",
              "1   0.688798   0.695273\n",
              "3   0.725422   0.723543\n",
              "5   0.737549   0.735630\n",
              "7   0.745336   0.743684\n",
              "9   0.752271   0.754797\n",
              "11  0.744646   0.743214\n",
              "13  0.759409   0.760117\n",
              "15  0.765574   0.768776\n",
              "17  0.770360   0.776097\n",
              "19  0.777214   0.787265\n",
              "21  0.774213   0.781444\n",
              "23  0.772875   0.781629\n",
              "25  0.775795   0.787615"
            ],
            "text/html": [
              "\n",
              "  <div id=\"df-e1de9cbb-da35-413a-8c7e-5f98387947da\" class=\"colab-df-container\">\n",
              "    <div>\n",
              "<style scoped>\n",
              "    .dataframe tbody tr th:only-of-type {\n",
              "        vertical-align: middle;\n",
              "    }\n",
              "\n",
              "    .dataframe tbody tr th {\n",
              "        vertical-align: top;\n",
              "    }\n",
              "\n",
              "    .dataframe thead th {\n",
              "        text-align: right;\n",
              "    }\n",
              "</style>\n",
              "<table border=\"1\" class=\"dataframe\">\n",
              "  <thead>\n",
              "    <tr style=\"text-align: right;\">\n",
              "      <th></th>\n",
              "      <th>Accuracy</th>\n",
              "      <th>Percision</th>\n",
              "    </tr>\n",
              "  </thead>\n",
              "  <tbody>\n",
              "    <tr>\n",
              "      <th>1</th>\n",
              "      <td>0.688798</td>\n",
              "      <td>0.695273</td>\n",
              "    </tr>\n",
              "    <tr>\n",
              "      <th>3</th>\n",
              "      <td>0.725422</td>\n",
              "      <td>0.723543</td>\n",
              "    </tr>\n",
              "    <tr>\n",
              "      <th>5</th>\n",
              "      <td>0.737549</td>\n",
              "      <td>0.735630</td>\n",
              "    </tr>\n",
              "    <tr>\n",
              "      <th>7</th>\n",
              "      <td>0.745336</td>\n",
              "      <td>0.743684</td>\n",
              "    </tr>\n",
              "    <tr>\n",
              "      <th>9</th>\n",
              "      <td>0.752271</td>\n",
              "      <td>0.754797</td>\n",
              "    </tr>\n",
              "    <tr>\n",
              "      <th>11</th>\n",
              "      <td>0.744646</td>\n",
              "      <td>0.743214</td>\n",
              "    </tr>\n",
              "    <tr>\n",
              "      <th>13</th>\n",
              "      <td>0.759409</td>\n",
              "      <td>0.760117</td>\n",
              "    </tr>\n",
              "    <tr>\n",
              "      <th>15</th>\n",
              "      <td>0.765574</td>\n",
              "      <td>0.768776</td>\n",
              "    </tr>\n",
              "    <tr>\n",
              "      <th>17</th>\n",
              "      <td>0.770360</td>\n",
              "      <td>0.776097</td>\n",
              "    </tr>\n",
              "    <tr>\n",
              "      <th>19</th>\n",
              "      <td>0.777214</td>\n",
              "      <td>0.787265</td>\n",
              "    </tr>\n",
              "    <tr>\n",
              "      <th>21</th>\n",
              "      <td>0.774213</td>\n",
              "      <td>0.781444</td>\n",
              "    </tr>\n",
              "    <tr>\n",
              "      <th>23</th>\n",
              "      <td>0.772875</td>\n",
              "      <td>0.781629</td>\n",
              "    </tr>\n",
              "    <tr>\n",
              "      <th>25</th>\n",
              "      <td>0.775795</td>\n",
              "      <td>0.787615</td>\n",
              "    </tr>\n",
              "  </tbody>\n",
              "</table>\n",
              "</div>\n",
              "    <div class=\"colab-df-buttons\">\n",
              "\n",
              "  <div class=\"colab-df-container\">\n",
              "    <button class=\"colab-df-convert\" onclick=\"convertToInteractive('df-e1de9cbb-da35-413a-8c7e-5f98387947da')\"\n",
              "            title=\"Convert this dataframe to an interactive table.\"\n",
              "            style=\"display:none;\">\n",
              "\n",
              "  <svg xmlns=\"http://www.w3.org/2000/svg\" height=\"24px\" viewBox=\"0 -960 960 960\">\n",
              "    <path d=\"M120-120v-720h720v720H120Zm60-500h600v-160H180v160Zm220 220h160v-160H400v160Zm0 220h160v-160H400v160ZM180-400h160v-160H180v160Zm440 0h160v-160H620v160ZM180-180h160v-160H180v160Zm440 0h160v-160H620v160Z\"/>\n",
              "  </svg>\n",
              "    </button>\n",
              "\n",
              "  <style>\n",
              "    .colab-df-container {\n",
              "      display:flex;\n",
              "      gap: 12px;\n",
              "    }\n",
              "\n",
              "    .colab-df-convert {\n",
              "      background-color: #E8F0FE;\n",
              "      border: none;\n",
              "      border-radius: 50%;\n",
              "      cursor: pointer;\n",
              "      display: none;\n",
              "      fill: #1967D2;\n",
              "      height: 32px;\n",
              "      padding: 0 0 0 0;\n",
              "      width: 32px;\n",
              "    }\n",
              "\n",
              "    .colab-df-convert:hover {\n",
              "      background-color: #E2EBFA;\n",
              "      box-shadow: 0px 1px 2px rgba(60, 64, 67, 0.3), 0px 1px 3px 1px rgba(60, 64, 67, 0.15);\n",
              "      fill: #174EA6;\n",
              "    }\n",
              "\n",
              "    .colab-df-buttons div {\n",
              "      margin-bottom: 4px;\n",
              "    }\n",
              "\n",
              "    [theme=dark] .colab-df-convert {\n",
              "      background-color: #3B4455;\n",
              "      fill: #D2E3FC;\n",
              "    }\n",
              "\n",
              "    [theme=dark] .colab-df-convert:hover {\n",
              "      background-color: #434B5C;\n",
              "      box-shadow: 0px 1px 3px 1px rgba(0, 0, 0, 0.15);\n",
              "      filter: drop-shadow(0px 1px 2px rgba(0, 0, 0, 0.3));\n",
              "      fill: #FFFFFF;\n",
              "    }\n",
              "  </style>\n",
              "\n",
              "    <script>\n",
              "      const buttonEl =\n",
              "        document.querySelector('#df-e1de9cbb-da35-413a-8c7e-5f98387947da button.colab-df-convert');\n",
              "      buttonEl.style.display =\n",
              "        google.colab.kernel.accessAllowed ? 'block' : 'none';\n",
              "\n",
              "      async function convertToInteractive(key) {\n",
              "        const element = document.querySelector('#df-e1de9cbb-da35-413a-8c7e-5f98387947da');\n",
              "        const dataTable =\n",
              "          await google.colab.kernel.invokeFunction('convertToInteractive',\n",
              "                                                    [key], {});\n",
              "        if (!dataTable) return;\n",
              "\n",
              "        const docLinkHtml = 'Like what you see? Visit the ' +\n",
              "          '<a target=\"_blank\" href=https://colab.research.google.com/notebooks/data_table.ipynb>data table notebook</a>'\n",
              "          + ' to learn more about interactive tables.';\n",
              "        element.innerHTML = '';\n",
              "        dataTable['output_type'] = 'display_data';\n",
              "        await google.colab.output.renderOutput(dataTable, element);\n",
              "        const docLink = document.createElement('div');\n",
              "        docLink.innerHTML = docLinkHtml;\n",
              "        element.appendChild(docLink);\n",
              "      }\n",
              "    </script>\n",
              "  </div>\n",
              "\n",
              "\n",
              "<div id=\"df-9bf0bd66-06f2-4de8-8181-5dcd0701e9ad\">\n",
              "  <button class=\"colab-df-quickchart\" onclick=\"quickchart('df-9bf0bd66-06f2-4de8-8181-5dcd0701e9ad')\"\n",
              "            title=\"Suggest charts\"\n",
              "            style=\"display:none;\">\n",
              "\n",
              "<svg xmlns=\"http://www.w3.org/2000/svg\" height=\"24px\"viewBox=\"0 0 24 24\"\n",
              "     width=\"24px\">\n",
              "    <g>\n",
              "        <path d=\"M19 3H5c-1.1 0-2 .9-2 2v14c0 1.1.9 2 2 2h14c1.1 0 2-.9 2-2V5c0-1.1-.9-2-2-2zM9 17H7v-7h2v7zm4 0h-2V7h2v10zm4 0h-2v-4h2v4z\"/>\n",
              "    </g>\n",
              "</svg>\n",
              "  </button>\n",
              "\n",
              "<style>\n",
              "  .colab-df-quickchart {\n",
              "      --bg-color: #E8F0FE;\n",
              "      --fill-color: #1967D2;\n",
              "      --hover-bg-color: #E2EBFA;\n",
              "      --hover-fill-color: #174EA6;\n",
              "      --disabled-fill-color: #AAA;\n",
              "      --disabled-bg-color: #DDD;\n",
              "  }\n",
              "\n",
              "  [theme=dark] .colab-df-quickchart {\n",
              "      --bg-color: #3B4455;\n",
              "      --fill-color: #D2E3FC;\n",
              "      --hover-bg-color: #434B5C;\n",
              "      --hover-fill-color: #FFFFFF;\n",
              "      --disabled-bg-color: #3B4455;\n",
              "      --disabled-fill-color: #666;\n",
              "  }\n",
              "\n",
              "  .colab-df-quickchart {\n",
              "    background-color: var(--bg-color);\n",
              "    border: none;\n",
              "    border-radius: 50%;\n",
              "    cursor: pointer;\n",
              "    display: none;\n",
              "    fill: var(--fill-color);\n",
              "    height: 32px;\n",
              "    padding: 0;\n",
              "    width: 32px;\n",
              "  }\n",
              "\n",
              "  .colab-df-quickchart:hover {\n",
              "    background-color: var(--hover-bg-color);\n",
              "    box-shadow: 0 1px 2px rgba(60, 64, 67, 0.3), 0 1px 3px 1px rgba(60, 64, 67, 0.15);\n",
              "    fill: var(--button-hover-fill-color);\n",
              "  }\n",
              "\n",
              "  .colab-df-quickchart-complete:disabled,\n",
              "  .colab-df-quickchart-complete:disabled:hover {\n",
              "    background-color: var(--disabled-bg-color);\n",
              "    fill: var(--disabled-fill-color);\n",
              "    box-shadow: none;\n",
              "  }\n",
              "\n",
              "  .colab-df-spinner {\n",
              "    border: 2px solid var(--fill-color);\n",
              "    border-color: transparent;\n",
              "    border-bottom-color: var(--fill-color);\n",
              "    animation:\n",
              "      spin 1s steps(1) infinite;\n",
              "  }\n",
              "\n",
              "  @keyframes spin {\n",
              "    0% {\n",
              "      border-color: transparent;\n",
              "      border-bottom-color: var(--fill-color);\n",
              "      border-left-color: var(--fill-color);\n",
              "    }\n",
              "    20% {\n",
              "      border-color: transparent;\n",
              "      border-left-color: var(--fill-color);\n",
              "      border-top-color: var(--fill-color);\n",
              "    }\n",
              "    30% {\n",
              "      border-color: transparent;\n",
              "      border-left-color: var(--fill-color);\n",
              "      border-top-color: var(--fill-color);\n",
              "      border-right-color: var(--fill-color);\n",
              "    }\n",
              "    40% {\n",
              "      border-color: transparent;\n",
              "      border-right-color: var(--fill-color);\n",
              "      border-top-color: var(--fill-color);\n",
              "    }\n",
              "    60% {\n",
              "      border-color: transparent;\n",
              "      border-right-color: var(--fill-color);\n",
              "    }\n",
              "    80% {\n",
              "      border-color: transparent;\n",
              "      border-right-color: var(--fill-color);\n",
              "      border-bottom-color: var(--fill-color);\n",
              "    }\n",
              "    90% {\n",
              "      border-color: transparent;\n",
              "      border-bottom-color: var(--fill-color);\n",
              "    }\n",
              "  }\n",
              "</style>\n",
              "\n",
              "  <script>\n",
              "    async function quickchart(key) {\n",
              "      const quickchartButtonEl =\n",
              "        document.querySelector('#' + key + ' button');\n",
              "      quickchartButtonEl.disabled = true;  // To prevent multiple clicks.\n",
              "      quickchartButtonEl.classList.add('colab-df-spinner');\n",
              "      try {\n",
              "        const charts = await google.colab.kernel.invokeFunction(\n",
              "            'suggestCharts', [key], {});\n",
              "      } catch (error) {\n",
              "        console.error('Error during call to suggestCharts:', error);\n",
              "      }\n",
              "      quickchartButtonEl.classList.remove('colab-df-spinner');\n",
              "      quickchartButtonEl.classList.add('colab-df-quickchart-complete');\n",
              "    }\n",
              "    (() => {\n",
              "      let quickchartButtonEl =\n",
              "        document.querySelector('#df-9bf0bd66-06f2-4de8-8181-5dcd0701e9ad button');\n",
              "      quickchartButtonEl.style.display =\n",
              "        google.colab.kernel.accessAllowed ? 'block' : 'none';\n",
              "    })();\n",
              "  </script>\n",
              "</div>\n",
              "\n",
              "  <div id=\"id_b17327db-0eca-4ec9-bfcb-645774eebd70\">\n",
              "    <style>\n",
              "      .colab-df-generate {\n",
              "        background-color: #E8F0FE;\n",
              "        border: none;\n",
              "        border-radius: 50%;\n",
              "        cursor: pointer;\n",
              "        display: none;\n",
              "        fill: #1967D2;\n",
              "        height: 32px;\n",
              "        padding: 0 0 0 0;\n",
              "        width: 32px;\n",
              "      }\n",
              "\n",
              "      .colab-df-generate:hover {\n",
              "        background-color: #E2EBFA;\n",
              "        box-shadow: 0px 1px 2px rgba(60, 64, 67, 0.3), 0px 1px 3px 1px rgba(60, 64, 67, 0.15);\n",
              "        fill: #174EA6;\n",
              "      }\n",
              "\n",
              "      [theme=dark] .colab-df-generate {\n",
              "        background-color: #3B4455;\n",
              "        fill: #D2E3FC;\n",
              "      }\n",
              "\n",
              "      [theme=dark] .colab-df-generate:hover {\n",
              "        background-color: #434B5C;\n",
              "        box-shadow: 0px 1px 3px 1px rgba(0, 0, 0, 0.15);\n",
              "        filter: drop-shadow(0px 1px 2px rgba(0, 0, 0, 0.3));\n",
              "        fill: #FFFFFF;\n",
              "      }\n",
              "    </style>\n",
              "    <button class=\"colab-df-generate\" onclick=\"generateWithVariable('totalscore')\"\n",
              "            title=\"Generate code using this dataframe.\"\n",
              "            style=\"display:none;\">\n",
              "\n",
              "  <svg xmlns=\"http://www.w3.org/2000/svg\" height=\"24px\"viewBox=\"0 0 24 24\"\n",
              "       width=\"24px\">\n",
              "    <path d=\"M7,19H8.4L18.45,9,17,7.55,7,17.6ZM5,21V16.75L18.45,3.32a2,2,0,0,1,2.83,0l1.4,1.43a1.91,1.91,0,0,1,.58,1.4,1.91,1.91,0,0,1-.58,1.4L9.25,21ZM18.45,9,17,7.55Zm-12,3A5.31,5.31,0,0,0,4.9,8.1,5.31,5.31,0,0,0,1,6.5,5.31,5.31,0,0,0,4.9,4.9,5.31,5.31,0,0,0,6.5,1,5.31,5.31,0,0,0,8.1,4.9,5.31,5.31,0,0,0,12,6.5,5.46,5.46,0,0,0,6.5,12Z\"/>\n",
              "  </svg>\n",
              "    </button>\n",
              "    <script>\n",
              "      (() => {\n",
              "      const buttonEl =\n",
              "        document.querySelector('#id_b17327db-0eca-4ec9-bfcb-645774eebd70 button.colab-df-generate');\n",
              "      buttonEl.style.display =\n",
              "        google.colab.kernel.accessAllowed ? 'block' : 'none';\n",
              "\n",
              "      buttonEl.onclick = () => {\n",
              "        google.colab.notebook.generateWithVariable('totalscore');\n",
              "      }\n",
              "      })();\n",
              "    </script>\n",
              "  </div>\n",
              "\n",
              "    </div>\n",
              "  </div>\n"
            ],
            "application/vnd.google.colaboratory.intrinsic+json": {
              "type": "dataframe",
              "variable_name": "totalscore",
              "summary": "{\n  \"name\": \"totalscore\",\n  \"rows\": 13,\n  \"fields\": [\n    {\n      \"column\": \"Accuracy\",\n      \"properties\": {\n        \"dtype\": \"number\",\n        \"std\": 0.025334063671418116,\n        \"min\": 0.6887978585334199,\n        \"max\": 0.7772144711226476,\n        \"num_unique_values\": 13,\n        \"samples\": [\n          0.7728747566515249,\n          0.7772144711226476,\n          0.6887978585334199\n        ],\n        \"semantic_type\": \"\",\n        \"description\": \"\"\n      }\n    },\n    {\n      \"column\": \"Percision\",\n      \"properties\": {\n        \"dtype\": \"number\",\n        \"std\": 0.027881668471636673,\n        \"min\": 0.6952725205022071,\n        \"max\": 0.7876146618058927,\n        \"num_unique_values\": 13,\n        \"samples\": [\n          0.7816289085428767,\n          0.7872646076480643,\n          0.6952725205022071\n        ],\n        \"semantic_type\": \"\",\n        \"description\": \"\"\n      }\n    }\n  ]\n}"
            }
          },
          "metadata": {},
          "execution_count": 8
        }
      ],
      "source": [
        "# Split the data into training and testing sets\n",
        "X_train, X_test, y_train, y_test = train_test_split(features, target, test_size=0.2, random_state=42)\n",
        "acclist = []\n",
        "perlist = []\n",
        "\n",
        "\n",
        "KNNlist = [x for x in range(1,26,2)]\n",
        "\n",
        "for k in KNNlist:\n",
        "# Initialize and fit the K-Nearest Neighbors (KNN) classifier\n",
        "    model = KNeighborsClassifier(n_neighbors=k)  # You can adjust the number of neighbors (k) as needed\n",
        "    model.fit(X_train, y_train)\n",
        "    # Predictions and evaluation\n",
        "    y_pred = model.predict(X_test)\n",
        "    accuracy = accuracy_score(y_test,y_pred)\n",
        "    percision = precision_score(y_test,y_pred,average='weighted')\n",
        "    acclist.append(accuracy)\n",
        "    perlist.append(percision)\n",
        "\n",
        "totalscore = pd.DataFrame({'Accuracy' : acclist , 'Percision' : perlist} , index = KNNlist)\n",
        "totalscore"
      ]
    },
    {
      "cell_type": "markdown",
      "source": [
        "# Display Confusion Matrix & Accuracy"
      ],
      "metadata": {
        "id": "l7ymUAhr3eSC"
      },
      "id": "l7ymUAhr3eSC"
    },
    {
      "cell_type": "code",
      "execution_count": 9,
      "id": "be71982e-45c6-4784-b7cb-1f026963c7b7",
      "metadata": {
        "colab": {
          "base_uri": "https://localhost:8080/",
          "height": 564
        },
        "id": "be71982e-45c6-4784-b7cb-1f026963c7b7",
        "outputId": "f9c51f7c-c144-4676-fef8-ed5e57827bd0"
      },
      "outputs": [
        {
          "output_type": "display_data",
          "data": {
            "text/plain": [
              "<Figure size 800x600 with 2 Axes>"
            ],
            "image/png": "[encoded data removed]"
          },
          "metadata": {}
        }
      ],
      "source": [
        "# Confusion matrix\n",
        "cm = confusion_matrix(y_test, y_pred)\n",
        "plt.figure(figsize=(8, 6))\n",
        "sns.heatmap(cm, annot=True, fmt='d', cmap='viridis', xticklabels=['Hit', 'Stand'], yticklabels=['Hit', 'Stand'])\n",
        "plt.xlabel('Predicted')\n",
        "plt.ylabel('True')\n",
        "plt.title('Confusion Matrix')\n",
        "plt.show()\n",
        "\n",
        "\n"
      ]
    },
    {
      "cell_type": "code",
      "execution_count": 10,
      "id": "eeb6992e-e48e-4c5f-8d61-236ec2d02fb5",
      "metadata": {
        "colab": {
          "base_uri": "https://localhost:8080/",
          "height": 1000
        },
        "id": "eeb6992e-e48e-4c5f-8d61-236ec2d02fb5",
        "outputId": "d41bcf8d-97d9-4025-e682-f0e2e7dcdb91"
      },
      "outputs": [
        {
          "output_type": "stream",
          "name": "stdout",
          "text": [
            "Model Interpretation:\n",
            "\n",
            "The model's accuracy of 77.58% indicates its effectiveness in predicting the correct actions ('Hit' or 'Stand').\n",
            "\n",
            "This suggests the KNN model's ability to capture the underlying patterns based on the features provided.\n",
            "Recommended action: Stand\n",
            "Probability of 'Hit': 0.32\n",
            "Probability of 'Stand': 0.68\n"
          ]
        },
        {
          "output_type": "display_data",
          "data": {
            "text/plain": [
              "<Figure size 800x400 with 1 Axes>"
            ],
            "image/png": "[encoded data removed]"
          },
          "metadata": {}
        },
        {
          "output_type": "display_data",
          "data": {
            "text/plain": [
              "<Figure size 600x600 with 1 Axes>"
            ],
            "image/png": "[encoded data removed]"
          },
          "metadata": {}
        },
        {
          "output_type": "stream",
          "name": "stdout",
          "text": [
            "Recommended action: Stand\n",
            "Probability of 'Hit': 0.08\n",
            "Probability of 'Stand': 0.92\n"
          ]
        },
        {
          "output_type": "display_data",
          "data": {
            "text/plain": [
              "<Figure size 800x400 with 1 Axes>"
            ],
            "image/png": "[encoded data removed]"
          },
          "metadata": {}
        },
        {
          "output_type": "display_data",
          "data": {
            "text/plain": [
              "<Figure size 600x600 with 1 Axes>"
            ],
            "image/png": "[encoded data removed]"
          },
          "metadata": {}
        }
      ],
      "source": [
        "# Interpretation of the model's performance\n",
        "print(\"Model Interpretation:\\n\")\n",
        "print(\"The model's accuracy of {:.2f}% indicates its effectiveness in predicting the correct actions ('Hit' or 'Stand').\".format(accuracy_score(y_test, y_pred) * 100))\n",
        "print(\"\\nThis suggests the KNN model's ability to capture the underlying patterns based on the features provided.\")\n",
        "\n",
        "# Example predictions\n",
        "predict_action(10, 15, False, model)  # Example where dealer shows 10 and player has total 15 without an ace\n",
        "predict_action(6, 12, True, model)    # Example where dealer shows 6 and player has total 12 with an ace\n",
        "\n",
        "\n"
      ]
    },
    {
      "cell_type": "code",
      "execution_count": 20,
      "id": "ec876b67-bc94-45fe-a96e-97dae1932477",
      "metadata": {
        "colab": {
          "base_uri": "https://localhost:8080/"
        },
        "id": "ec876b67-bc94-45fe-a96e-97dae1932477",
        "outputId": "745d731a-512e-47c7-e7a5-44f04ae9fdc4"
      },
      "outputs": [
        {
          "output_type": "stream",
          "name": "stderr",
          "text": [
            "/usr/local/lib/python3.11/dist-packages/gym/core.py:317: DeprecationWarning: \u001b[33mWARN: Initializing wrapper in old step API which returns one bool instead of two. It is recommended to set `new_step_api=True` to use new step API. This will be the default behaviour in future.\u001b[0m\n",
            "  deprecation(\n",
            "/usr/local/lib/python3.11/dist-packages/gym/wrappers/step_api_compatibility.py:39: DeprecationWarning: \u001b[33mWARN: Initializing environment in old step API which returns one bool instead of two. It is recommended to set `new_step_api=True` to use new step API. This will be the default behaviour in future.\u001b[0m\n",
            "  deprecation(\n",
            "  0%|          | 0/500000 [00:00<?, ?it/s]/usr/local/lib/python3.11/dist-packages/gym/utils/passive_env_checker.py:241: DeprecationWarning: `np.bool8` is a deprecated alias for `np.bool_`.  (Deprecated NumPy 1.24)\n",
            "  if not isinstance(terminated, (bool, np.bool8)):\n",
            "100%|██████████| 500000/500000 [00:57<00:00, 8632.95it/s]"
          ]
        },
        {
          "output_type": "stream",
          "name": "stdout",
          "text": [
            "\n",
            "Win: 192398\t(38.479600000000005%)\n",
            "Lose: 283418\t(56.6836%)\n",
            "Even: 24184\t(4.8368%)\n",
            "\n"
          ]
        },
        {
          "output_type": "stream",
          "name": "stderr",
          "text": [
            "\n"
          ]
        }
      ],
      "source": [
        "from tqdm import tqdm\n",
        "import gym\n",
        "\n",
        "env = gym.make(\"Blackjack-v1\", sab=True)\n",
        "\n",
        "n_episodes = 500_000  # play 500000 games\n",
        "\n",
        "done = False\n",
        "obs, info = env.reset(return_info=True)  # Handle reset with return_info=True\n",
        "\n",
        "env = gym.wrappers.RecordEpisodeStatistics(env, deque_size=n_episodes)\n",
        "win, lose, even = 0, 0, 0\n",
        "\n",
        "for episode in tqdm(range(n_episodes)):\n",
        "    obs, info = env.reset(return_info=True)  # Handle reset with return_info=True\n",
        "    done = False\n",
        "\n",
        "    # play one episode\n",
        "    while not done:\n",
        "        action = 0  # <- 0(stay) or 1(hit) using your model to give the action\n",
        "        next_obs, reward, done, info = env.step(action)  # Corrected to unpack only 4 values\n",
        "\n",
        "        # update if the environment is done and the current obs\n",
        "        if done:\n",
        "            if reward > 0:\n",
        "                win += 1\n",
        "            elif reward < 0:\n",
        "                lose += 1\n",
        "            else:\n",
        "                even += 1\n",
        "        obs = next_obs\n",
        "\n",
        "total_game = win + lose + even\n",
        "\n",
        "print(\"\\nWin: {}\\t({}%)\\nLose: {}\\t({}%)\\nEven: {}\\t({}%)\\n\".format(win, win/total_game*100, lose, lose/total_game*100, even, even/total_game*100))\n"
      ]
    },
    {
      "cell_type": "code",
      "execution_count": null,
      "id": "caef72c6-4a1c-4385-bc63-e80be6f6499b",
      "metadata": {
        "id": "caef72c6-4a1c-4385-bc63-e80be6f6499b"
      },
      "outputs": [],
      "source": []
    }
  ],
  "metadata": {
    "kernelspec": {
      "display_name": "Python 3 (ipykernel)",
      "language": "python",
      "name": "python3"
    },
    "language_info": {
      "codemirror_mode": {
        "name": "ipython",
        "version": 3
      },
      "file_extension": ".py",
      "mimetype": "text/x-python",
      "name": "python",
      "nbconvert_exporter": "python",
      "pygments_lexer": "ipython3",
      "version": "3.11.4"
    },
    "colab": {
      "provenance": []
    }
  },
  "nbformat": 4,
  "nbformat_minor": 5
}